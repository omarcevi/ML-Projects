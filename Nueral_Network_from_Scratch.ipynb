{
  "nbformat": 4,
  "nbformat_minor": 0,
  "metadata": {
    "colab": {
      "provenance": [],
      "authorship_tag": "ABX9TyOupPedArioSBSYSvqkUtoT",
      "include_colab_link": true
    },
    "kernelspec": {
      "name": "python3",
      "display_name": "Python 3"
    },
    "language_info": {
      "name": "python"
    }
  },
  "cells": [
    {
      "cell_type": "markdown",
      "metadata": {
        "id": "view-in-github",
        "colab_type": "text"
      },
      "source": [
        "<a href=\"https://colab.research.google.com/github/omarcevi/ML-Projects/blob/main/Nueral_Network_from_Scratch.ipynb\" target=\"_parent\"><img src=\"https://colab.research.google.com/assets/colab-badge.svg\" alt=\"Open In Colab\"/></a>"
      ]
    },
    {
      "cell_type": "markdown",
      "source": [
        "# Building a Neural Network From Scratch"
      ],
      "metadata": {
        "id": "LpjnFr-orF3y"
      }
    },
    {
      "cell_type": "code",
      "execution_count": null,
      "metadata": {
        "colab": {
          "base_uri": "https://localhost:8080/"
        },
        "id": "VWE6CAT8R3nA",
        "outputId": "7a1c626d-3477-473f-e111-d9e82cc77da8"
      },
      "outputs": [
        {
          "output_type": "stream",
          "name": "stdout",
          "text": [
            "Predictions:\n",
            "[[0.028]\n",
            " [0.976]\n",
            " [0.976]\n",
            " [0.025]]\n"
          ]
        }
      ],
      "source": [
        "import numpy as np\n",
        "\n",
        "class NeuralNetwork:\n",
        "    def __init__(self, input_size, hidden_size, output_size):\n",
        "        self.input_size = input_size\n",
        "        self.hidden_size = hidden_size\n",
        "        self.output_size = output_size\n",
        "\n",
        "        # Initialize weights with random values\n",
        "        self.W1 = np.random.randn(self.input_size, self.hidden_size)\n",
        "        self.W2 = np.random.randn(self.hidden_size, self.output_size)\n",
        "\n",
        "        # Initialize biases with zeros\n",
        "        self.b1 = np.zeros((1, self.hidden_size))\n",
        "        self.b2 = np.zeros((1, self.output_size))\n",
        "\n",
        "    def sigmoid(self, x):\n",
        "        # Sigmoid activation function\n",
        "        return 1 / (1 + np.exp(-x))\n",
        "\n",
        "    def sigmoid_derivative(self, x):\n",
        "        # Derivative of the sigmoid function\n",
        "        return x * (1 - x)\n",
        "\n",
        "    def forward(self, X):\n",
        "        # Compute the forward pass of the neural network\n",
        "\n",
        "        a0 = X # Define input layer as the input to the network\n",
        "        # Multiply input by first layer weights and add biases\n",
        "        self.z1 = np.dot(a0, self.W1) + self.b1\n",
        "\n",
        "        # Apply activation function (sigmoid)\n",
        "        self.a1 = self.sigmoid(self.z1)\n",
        "\n",
        "        # Multiply hidden layer output by second layer weights and add biases\n",
        "        self.z2 = np.dot(self.a1, self.W2) + self.b2\n",
        "\n",
        "        # Apply activation function (sigmoid)\n",
        "        self.a2 = self.sigmoid(self.z2)\n",
        "\n",
        "        return self.a2, self.z2, self.a1, self.z1\n",
        "\n",
        "    def backward(self, X, y, output, learning_rate):\n",
        "        # Compute the backward pass and update weights and biases\n",
        "\n",
        "        # Define the number of instances\n",
        "        num_instances = X.shape[0]\n",
        "\n",
        "        # Compute the difference between predicted and actual output\n",
        "        self.dz2 = 2 * (output - y) * self.sigmoid_derivative(self.a2)\n",
        "\n",
        "        # Compute gradients for the second layer weights and biases\n",
        "        self.dW2 = np.dot(self.a1.T, self.dz2) / num_instances\n",
        "        self.db2 = np.sum(self.dz2, axis=0, keepdims=True) / num_instances\n",
        "\n",
        "        # Compute gradients for the first layer weights and biases\n",
        "        self.dz1 = np.dot(self.dz2, self.W2.T) * self.sigmoid_derivative(self.a1)\n",
        "        self.dW1 = np.dot(X.T, self.dz1) / num_instances\n",
        "        self.db1 = np.sum(self.dz1, axis=0, keepdims=True) / num_instances\n",
        "\n",
        "        # Update weights and biases using the gradients and learning rate\n",
        "        self.W1 -= learning_rate * self.dW1\n",
        "        self.b1 -= learning_rate * self.db1\n",
        "        self.W2 -= learning_rate * self.dW2\n",
        "        self.b2 -= learning_rate * self.db2\n",
        "\n",
        "    def train(self, X, y, epochs, learning_rate):\n",
        "        # Train the neural network by iterating through epochs\n",
        "\n",
        "        for epoch in range(epochs):\n",
        "            output = self.forward(X)[0]\n",
        "            self.backward(X, y, output, learning_rate)\n",
        "\n",
        "    def predict(self, X):\n",
        "        # Make predictions\n",
        "        return self.forward(X)[0]\n",
        "\n",
        "# Example usage\n",
        "X = np.array([[0, 0], [0, 1], [1, 0], [1, 1]])\n",
        "y = np.array([[0], [1], [1], [0]])\n",
        "\n",
        "# Create a neural network with 2 input neurons, 2 hidden neurons, and 1 output neuron\n",
        "nn = NeuralNetwork(2, 2, 1)\n",
        "\n",
        "# Train the neural network\n",
        "nn.train(X, y, epochs=10000, learning_rate=0.5)\n",
        "\n",
        "# Make predictions\n",
        "predictions = nn.predict(X)\n",
        "print(\"Predictions:\")\n",
        "print(predictions.round(3))"
      ]
    },
    {
      "cell_type": "markdown",
      "source": [
        "# Implementing Neural network using sklearn"
      ],
      "metadata": {
        "id": "kdpt8ELV5zhu"
      }
    },
    {
      "cell_type": "code",
      "source": [
        "import numpy as np\n",
        "from sklearn.datasets import load_iris\n",
        "from sklearn.linear_model import Perceptron\n",
        "\n",
        "iris = load_iris(as_frame=True)\n",
        "X = iris.data[[\"petal length (cm)\", \"petal width (cm)\"]].values\n",
        "y = (iris.target == 0) # Iris setosa\n",
        "\n",
        "per_clf = Perceptron(random_state=42)\n",
        "per_clf.fit(X, y)\n",
        "\n",
        "X_new = [[2, 0.5], [3, 1]]\n",
        "y_pred = per_clf.predict(X_new) # predicts True and False for these 2 flowers\n",
        "\n",
        "print(y_pred)"
      ],
      "metadata": {
        "colab": {
          "base_uri": "https://localhost:8080/"
        },
        "id": "GzVxFtHF5650",
        "outputId": "d9e46804-4dae-4418-9e91-3ea4675aea20"
      },
      "execution_count": 2,
      "outputs": [
        {
          "output_type": "stream",
          "name": "stdout",
          "text": [
            "[ True False]\n"
          ]
        }
      ]
    },
    {
      "cell_type": "markdown",
      "source": [
        "# Implementing The Neural Network Using TensorFlow"
      ],
      "metadata": {
        "id": "Q4OtjXoprSgF"
      }
    },
    {
      "cell_type": "code",
      "source": [
        "import tensorflow as tf\n",
        "import numpy as np\n",
        "\n",
        "X = np.array([[0, 0], [0, 1], [1, 0], [1, 1]])\n",
        "y = np.array([[0], [1], [1], [0]])\n",
        "\n",
        "X = tf.convert_to_tensor(X, np.float32)\n",
        "y = tf.convert_to_tensor(y, np.float32)\n"
      ],
      "metadata": {
        "id": "4cT1z3d-S17v"
      },
      "execution_count": null,
      "outputs": []
    },
    {
      "cell_type": "code",
      "source": [
        "model = tf.keras.Sequential([\n",
        "    tf.keras.layers.InputLayer(input_shape=(2,)), # Input layer\n",
        "    tf.keras.layers.Dense(2, activation='sigmoid'), # One hidden layer\n",
        "    tf.keras.layers.Dense(1, activation='sigmoid') # Output layer\n",
        "])\n",
        "\n",
        "model.summary()"
      ],
      "metadata": {
        "id": "yKKEM17aUOyD",
        "colab": {
          "base_uri": "https://localhost:8080/"
        },
        "outputId": "d8e4b246-faf4-4c9b-8df8-74a7f77d4832"
      },
      "execution_count": null,
      "outputs": [
        {
          "output_type": "stream",
          "name": "stdout",
          "text": [
            "Model: \"sequential_1\"\n",
            "_________________________________________________________________\n",
            " Layer (type)                Output Shape              Param #   \n",
            "=================================================================\n",
            " dense_2 (Dense)             (None, 2)                 6         \n",
            "                                                                 \n",
            " dense_3 (Dense)             (None, 1)                 3         \n",
            "                                                                 \n",
            "=================================================================\n",
            "Total params: 9\n",
            "Trainable params: 9\n",
            "Non-trainable params: 0\n",
            "_________________________________________________________________\n"
          ]
        }
      ]
    },
    {
      "cell_type": "code",
      "source": [
        "model.compile(\n",
        "    optimizer=tf.keras.optimizers.SGD(learning_rate=0.5),\n",
        "    loss=tf.keras.losses.MeanSquaredError(),\n",
        "    metrics=['mse', 'binary_accuracy']\n",
        ")"
      ],
      "metadata": {
        "id": "R9IVPtrSUxdi"
      },
      "execution_count": null,
      "outputs": []
    },
    {
      "cell_type": "code",
      "source": [
        "history = model.fit(X, y, batch_size=1, epochs=1000, verbose=False)\n",
        "\n",
        "print(\"Tensorflow version: \", tf.__version__)\n",
        "predictions = model.predict_on_batch(X)\n",
        "print(predictions)"
      ],
      "metadata": {
        "colab": {
          "base_uri": "https://localhost:8080/"
        },
        "id": "6F7aO2mUgm_e",
        "outputId": "a118ffa2-96fe-4865-c445-3cbe1bfc36c0"
      },
      "execution_count": null,
      "outputs": [
        {
          "output_type": "stream",
          "name": "stdout",
          "text": [
            "Tensorflow version:  2.12.0\n",
            "[[0.05770093]\n",
            " [0.9515575 ]\n",
            " [0.948997  ]\n",
            " [0.05133646]]\n"
          ]
        }
      ]
    }
  ]
}