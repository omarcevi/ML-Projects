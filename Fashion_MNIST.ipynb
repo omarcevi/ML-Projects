{
  "nbformat": 4,
  "nbformat_minor": 0,
  "metadata": {
    "colab": {
      "provenance": [],
      "authorship_tag": "ABX9TyO4sAmVP2TeQqdUDDpS+/eE",
      "include_colab_link": true
    },
    "kernelspec": {
      "name": "python3",
      "display_name": "Python 3"
    },
    "language_info": {
      "name": "python"
    }
  },
  "cells": [
    {
      "cell_type": "markdown",
      "metadata": {
        "id": "view-in-github",
        "colab_type": "text"
      },
      "source": [
        "<a href=\"https://colab.research.google.com/github/omarcevi/ML-Projects/blob/main/Fashion_MNIST.ipynb\" target=\"_parent\"><img src=\"https://colab.research.google.com/assets/colab-badge.svg\" alt=\"Open In Colab\"/></a>"
      ]
    },
    {
      "cell_type": "code",
      "execution_count": 31,
      "metadata": {
        "id": "OzH1N5_0U5F3"
      },
      "outputs": [],
      "source": [
        "import tensorflow as tf\n",
        "import matplotlib.pyplot as plt\n",
        "import pandas as pd\n",
        "import numpy as np\n",
        "\n",
        "tf.random.set_seed(42)\n",
        "tf.keras.backend.clear_session()\n"
      ]
    },
    {
      "cell_type": "code",
      "source": [
        "fashion_mnist = tf.keras.datasets.fashion_mnist.load_data()\n",
        "(X_train_full, y_train_full), (X_test, y_test) = fashion_mnist\n",
        "X_train, y_train = X_train_full[:-5000], y_train_full[:-5000]\n",
        "X_valid, y_valid = X_train_full[-5000:], y_train_full[-5000:]"
      ],
      "metadata": {
        "colab": {
          "base_uri": "https://localhost:8080/"
        },
        "id": "8meXXEJJU-2x",
        "outputId": "886202c4-1e5f-45ad-8ee6-098f536c7ab3"
      },
      "execution_count": 2,
      "outputs": [
        {
          "output_type": "stream",
          "name": "stdout",
          "text": [
            "Downloading data from https://storage.googleapis.com/tensorflow/tf-keras-datasets/train-labels-idx1-ubyte.gz\n",
            "29515/29515 [==============================] - 0s 0us/step\n",
            "Downloading data from https://storage.googleapis.com/tensorflow/tf-keras-datasets/train-images-idx3-ubyte.gz\n",
            "26421880/26421880 [==============================] - 0s 0us/step\n",
            "Downloading data from https://storage.googleapis.com/tensorflow/tf-keras-datasets/t10k-labels-idx1-ubyte.gz\n",
            "5148/5148 [==============================] - 0s 0us/step\n",
            "Downloading data from https://storage.googleapis.com/tensorflow/tf-keras-datasets/t10k-images-idx3-ubyte.gz\n",
            "4422102/4422102 [==============================] - 0s 0us/step\n"
          ]
        }
      ]
    },
    {
      "cell_type": "code",
      "source": [
        "print(X_train.shape)\n",
        "print(X_train.dtype)"
      ],
      "metadata": {
        "colab": {
          "base_uri": "https://localhost:8080/"
        },
        "id": "KeKkuAuXVJLb",
        "outputId": "3b91db7e-59f7-403f-d94b-6bd126f0d28e"
      },
      "execution_count": 4,
      "outputs": [
        {
          "output_type": "stream",
          "name": "stdout",
          "text": [
            "(55000, 28, 28)\n",
            "uint8\n"
          ]
        }
      ]
    },
    {
      "cell_type": "code",
      "source": [
        "X_train, X_valid, X_test = X_train/255., X_valid/255., X_test/255."
      ],
      "metadata": {
        "id": "AepajjSxVNSv"
      },
      "execution_count": 5,
      "outputs": []
    },
    {
      "cell_type": "code",
      "source": [
        "class_names = [\n",
        "    \"T-shirt/top\", \"Trouser\", \"Pullover\",\"Dress\", \"Coat\",\n",
        "    \"Sandal\", \"Shirt\", \"Sneaker\", \"Bag\", \"Ankle boot\"\n",
        "]\n",
        "\n",
        "print(class_names[y_train[0]])"
      ],
      "metadata": {
        "colab": {
          "base_uri": "https://localhost:8080/"
        },
        "id": "3fkya46ZVeVa",
        "outputId": "403050ab-dd46-4886-87d0-eba7ccd0ea89"
      },
      "execution_count": 16,
      "outputs": [
        {
          "output_type": "stream",
          "name": "stdout",
          "text": [
            "Ankle boot\n"
          ]
        }
      ]
    },
    {
      "cell_type": "code",
      "source": [
        "model = tf.keras.Sequential([\n",
        "    tf.keras.layers.Input(shape=[28, 28]),\n",
        "    tf.keras.layers.Flatten(),\n",
        "    tf.keras.layers.Dense(300, activation='relu'),\n",
        "    tf.keras.layers.Dense(100, activation='relu'),\n",
        "    tf.keras.layers.Dense(10, activation='softmax')\n",
        "])\n",
        "\n",
        "model.summary()"
      ],
      "metadata": {
        "colab": {
          "base_uri": "https://localhost:8080/"
        },
        "id": "Sb3S5778VuF9",
        "outputId": "7a8fe85e-0115-4e7b-d13e-05781889f3b1"
      },
      "execution_count": 15,
      "outputs": [
        {
          "output_type": "stream",
          "name": "stdout",
          "text": [
            "Model: \"sequential_2\"\n",
            "_________________________________________________________________\n",
            " Layer (type)                Output Shape              Param #   \n",
            "=================================================================\n",
            " flatten_2 (Flatten)         (None, 784)               0         \n",
            "                                                                 \n",
            " dense_6 (Dense)             (None, 300)               235500    \n",
            "                                                                 \n",
            " dense_7 (Dense)             (None, 100)               30100     \n",
            "                                                                 \n",
            " dense_8 (Dense)             (None, 10)                1010      \n",
            "                                                                 \n",
            "=================================================================\n",
            "Total params: 266,610\n",
            "Trainable params: 266,610\n",
            "Non-trainable params: 0\n",
            "_________________________________________________________________\n"
          ]
        }
      ]
    },
    {
      "cell_type": "code",
      "source": [
        "model.compile(\n",
        "    loss=\"sparse_categorical_crossentropy\",\n",
        "    optimizer='sgd',\n",
        "    metrics=['accuracy']\n",
        ")"
      ],
      "metadata": {
        "id": "mOtOSyW1YMGg"
      },
      "execution_count": 24,
      "outputs": []
    },
    {
      "cell_type": "code",
      "source": [
        "history  = model.fit(X_train, y_train,\n",
        "                     epochs=30,\n",
        "                     validation_data=(X_valid, y_valid))"
      ],
      "metadata": {
        "colab": {
          "base_uri": "https://localhost:8080/"
        },
        "id": "72nxqTKpY-Fs",
        "outputId": "2eebe151-3384-472f-cdf8-60870f875e8d"
      },
      "execution_count": 25,
      "outputs": [
        {
          "output_type": "stream",
          "name": "stdout",
          "text": [
            "Epoch 1/30\n",
            "1719/1719 [==============================] - 10s 5ms/step - loss: 0.7095 - accuracy: 0.7625 - val_loss: 0.5119 - val_accuracy: 0.8232\n",
            "Epoch 2/30\n",
            "1719/1719 [==============================] - 9s 5ms/step - loss: 0.4861 - accuracy: 0.8301 - val_loss: 0.4653 - val_accuracy: 0.8332\n",
            "Epoch 3/30\n",
            "1719/1719 [==============================] - 10s 6ms/step - loss: 0.4400 - accuracy: 0.8455 - val_loss: 0.4294 - val_accuracy: 0.8482\n",
            "Epoch 4/30\n",
            "1719/1719 [==============================] - 9s 5ms/step - loss: 0.4150 - accuracy: 0.8547 - val_loss: 0.3957 - val_accuracy: 0.8618\n",
            "Epoch 5/30\n",
            "1719/1719 [==============================] - 8s 5ms/step - loss: 0.3937 - accuracy: 0.8615 - val_loss: 0.3913 - val_accuracy: 0.8614\n",
            "Epoch 6/30\n",
            "1719/1719 [==============================] - 10s 6ms/step - loss: 0.3772 - accuracy: 0.8671 - val_loss: 0.3946 - val_accuracy: 0.8628\n",
            "Epoch 7/30\n",
            "1719/1719 [==============================] - 9s 5ms/step - loss: 0.3650 - accuracy: 0.8699 - val_loss: 0.3728 - val_accuracy: 0.8690\n",
            "Epoch 8/30\n",
            "1719/1719 [==============================] - 9s 5ms/step - loss: 0.3535 - accuracy: 0.8734 - val_loss: 0.3750 - val_accuracy: 0.8652\n",
            "Epoch 9/30\n",
            "1719/1719 [==============================] - 8s 5ms/step - loss: 0.3430 - accuracy: 0.8785 - val_loss: 0.3513 - val_accuracy: 0.8752\n",
            "Epoch 10/30\n",
            "1719/1719 [==============================] - 11s 6ms/step - loss: 0.3330 - accuracy: 0.8809 - val_loss: 0.3546 - val_accuracy: 0.8740\n",
            "Epoch 11/30\n",
            "1719/1719 [==============================] - 9s 6ms/step - loss: 0.3245 - accuracy: 0.8836 - val_loss: 0.3661 - val_accuracy: 0.8686\n",
            "Epoch 12/30\n",
            "1719/1719 [==============================] - 11s 7ms/step - loss: 0.3166 - accuracy: 0.8857 - val_loss: 0.3470 - val_accuracy: 0.8738\n",
            "Epoch 13/30\n",
            "1719/1719 [==============================] - 8s 5ms/step - loss: 0.3093 - accuracy: 0.8894 - val_loss: 0.3295 - val_accuracy: 0.8794\n",
            "Epoch 14/30\n",
            "1719/1719 [==============================] - 9s 5ms/step - loss: 0.3021 - accuracy: 0.8909 - val_loss: 0.3384 - val_accuracy: 0.8794\n",
            "Epoch 15/30\n",
            "1719/1719 [==============================] - 9s 5ms/step - loss: 0.2962 - accuracy: 0.8942 - val_loss: 0.3405 - val_accuracy: 0.8778\n",
            "Epoch 16/30\n",
            "1719/1719 [==============================] - 8s 5ms/step - loss: 0.2891 - accuracy: 0.8965 - val_loss: 0.3340 - val_accuracy: 0.8772\n",
            "Epoch 17/30\n",
            "1719/1719 [==============================] - 9s 5ms/step - loss: 0.2839 - accuracy: 0.8978 - val_loss: 0.3366 - val_accuracy: 0.8768\n",
            "Epoch 18/30\n",
            "1719/1719 [==============================] - 9s 5ms/step - loss: 0.2781 - accuracy: 0.8997 - val_loss: 0.3277 - val_accuracy: 0.8820\n",
            "Epoch 19/30\n",
            "1719/1719 [==============================] - 8s 5ms/step - loss: 0.2729 - accuracy: 0.9014 - val_loss: 0.3480 - val_accuracy: 0.8712\n",
            "Epoch 20/30\n",
            "1719/1719 [==============================] - 10s 6ms/step - loss: 0.2684 - accuracy: 0.9040 - val_loss: 0.3194 - val_accuracy: 0.8848\n",
            "Epoch 21/30\n",
            "1719/1719 [==============================] - 11s 6ms/step - loss: 0.2630 - accuracy: 0.9050 - val_loss: 0.3139 - val_accuracy: 0.8836\n",
            "Epoch 22/30\n",
            "1719/1719 [==============================] - 10s 6ms/step - loss: 0.2581 - accuracy: 0.9064 - val_loss: 0.3203 - val_accuracy: 0.8832\n",
            "Epoch 23/30\n",
            "1719/1719 [==============================] - 8s 5ms/step - loss: 0.2537 - accuracy: 0.9092 - val_loss: 0.3450 - val_accuracy: 0.8724\n",
            "Epoch 24/30\n",
            "1719/1719 [==============================] - 9s 5ms/step - loss: 0.2486 - accuracy: 0.9103 - val_loss: 0.3192 - val_accuracy: 0.8816\n",
            "Epoch 25/30\n",
            "1719/1719 [==============================] - 9s 5ms/step - loss: 0.2446 - accuracy: 0.9121 - val_loss: 0.3177 - val_accuracy: 0.8794\n",
            "Epoch 26/30\n",
            "1719/1719 [==============================] - 8s 4ms/step - loss: 0.2409 - accuracy: 0.9138 - val_loss: 0.3144 - val_accuracy: 0.8852\n",
            "Epoch 27/30\n",
            "1719/1719 [==============================] - 9s 5ms/step - loss: 0.2364 - accuracy: 0.9146 - val_loss: 0.3230 - val_accuracy: 0.8830\n",
            "Epoch 28/30\n",
            "1719/1719 [==============================] - 9s 6ms/step - loss: 0.2329 - accuracy: 0.9167 - val_loss: 0.3131 - val_accuracy: 0.8858\n",
            "Epoch 29/30\n",
            "1719/1719 [==============================] - 8s 5ms/step - loss: 0.2298 - accuracy: 0.9176 - val_loss: 0.3214 - val_accuracy: 0.8822\n",
            "Epoch 30/30\n",
            "1719/1719 [==============================] - 9s 5ms/step - loss: 0.2254 - accuracy: 0.9198 - val_loss: 0.3097 - val_accuracy: 0.8852\n"
          ]
        }
      ]
    },
    {
      "cell_type": "code",
      "source": [
        "pd.DataFrame(history.history).plot(\n",
        "    figsize=(8, 5),\n",
        "    xlim=[0, 29],\n",
        "    ylim=[0, 1],\n",
        "    grid=True,\n",
        "    xlabel=\"Epoch\",\n",
        "    style=[\"r--\", \"r--.\", \"b-\", \"b-*\"]\n",
        "    )\n",
        "plt.show()"
      ],
      "metadata": {
        "colab": {
          "base_uri": "https://localhost:8080/",
          "height": 470
        },
        "id": "S2JRJdtkZTlK",
        "outputId": "98ff1d24-fb46-4107-f359-daaf8e0181cb"
      },
      "execution_count": 27,
      "outputs": [
        {
          "output_type": "display_data",
          "data": {
            "text/plain": [
              "<Figure size 800x500 with 1 Axes>"
            ],
            "image/png": "[encoded data removed]"
          },
          "metadata": {}
        }
      ]
    },
    {
      "cell_type": "code",
      "source": [
        "model.evaluate(X_test, y_test)"
      ],
      "metadata": {
        "colab": {
          "base_uri": "https://localhost:8080/"
        },
        "id": "Qo5Ney7GpViF",
        "outputId": "a8d847c6-268c-4cc2-f432-827ba3b43f7c"
      },
      "execution_count": 29,
      "outputs": [
        {
          "output_type": "stream",
          "name": "stdout",
          "text": [
            "313/313 [==============================] - 1s 4ms/step - loss: 0.3253 - accuracy: 0.8870\n"
          ]
        },
        {
          "output_type": "execute_result",
          "data": {
            "text/plain": [
              "[0.32529762387275696, 0.8870000243186951]"
            ]
          },
          "metadata": {},
          "execution_count": 29
        }
      ]
    },
    {
      "cell_type": "code",
      "source": [
        "X_new = X_test[:3]\n",
        "y_proba = model.predict(X_new)\n",
        "y_proba.round(2)"
      ],
      "metadata": {
        "colab": {
          "base_uri": "https://localhost:8080/"
        },
        "id": "tso2YTWRq1-b",
        "outputId": "df39240d-fe23-4b37-bfd1-29b8589ed6df"
      },
      "execution_count": 30,
      "outputs": [
        {
          "output_type": "stream",
          "name": "stdout",
          "text": [
            "1/1 [==============================] - 0s 99ms/step\n"
          ]
        },
        {
          "output_type": "execute_result",
          "data": {
            "text/plain": [
              "array([[0.  , 0.  , 0.  , 0.  , 0.  , 0.  , 0.  , 0.02, 0.  , 0.97],\n",
              "       [0.  , 0.  , 1.  , 0.  , 0.  , 0.  , 0.  , 0.  , 0.  , 0.  ],\n",
              "       [0.  , 1.  , 0.  , 0.  , 0.  , 0.  , 0.  , 0.  , 0.  , 0.  ]],\n",
              "      dtype=float32)"
            ]
          },
          "metadata": {},
          "execution_count": 30
        }
      ]
    },
    {
      "cell_type": "code",
      "source": [
        "y_pred = y_proba.argmax(axis=-1)\n",
        "print(np.array(class_names)[y_pred])"
      ],
      "metadata": {
        "colab": {
          "base_uri": "https://localhost:8080/"
        },
        "id": "wmiotLJhrNtX",
        "outputId": "2eee3595-24ea-46e3-aecc-52835ae43365"
      },
      "execution_count": 32,
      "outputs": [
        {
          "output_type": "stream",
          "name": "stdout",
          "text": [
            "['Ankle boot' 'Pullover' 'Trouser']\n"
          ]
        }
      ]
    }
  ]
}